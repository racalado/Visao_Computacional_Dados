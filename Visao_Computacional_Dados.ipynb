{
  "nbformat": 4,
  "nbformat_minor": 0,
  "metadata": {
    "colab": {
      "provenance": [],
      "authorship_tag": "ABX9TyPpGxXB4HAXCYoma0BojpV0",
      "include_colab_link": true
    },
    "kernelspec": {
      "name": "python3",
      "display_name": "Python 3"
    },
    "language_info": {
      "name": "python"
    }
  },
  "cells": [
    {
      "cell_type": "markdown",
      "metadata": {
        "id": "view-in-github",
        "colab_type": "text"
      },
      "source": [
        "<a href=\"https://colab.research.google.com/github/racalado/Visao_Computacional_Dados/blob/main/Visao_Computacional_Dados.ipynb\" target=\"_parent\"><img src=\"https://colab.research.google.com/assets/colab-badge.svg\" alt=\"Open In Colab\"/></a>"
      ]
    },
    {
      "cell_type": "code",
      "execution_count": null,
      "metadata": {
        "id": "SCEoELXjghIS"
      },
      "outputs": [],
      "source": [
        "# @title CONTAGEM DADOS - 21\n",
        "\n",
        "import cv2\n",
        "import numpy as np\n",
        "import matplotlib.pyplot as plt\n",
        "\n",
        "def show_image(title, img, cmap=None):\n",
        "    plt.figure(figsize=(6, 6))\n",
        "    plt.title(title)\n",
        "    plt.axis(\"off\")\n",
        "    plt.imshow(img, cmap=cmap)\n",
        "    plt.show()\n",
        "\n",
        "def count_dice_points(image_path):\n",
        "    # Ler a imagem\n",
        "    image = cv2.imread(image_path)\n",
        "    image_rgb = cv2.cvtColor(image, cv2.COLOR_BGR2RGB)\n",
        "    show_image(\"Imagem Original\", image_rgb)\n",
        "\n",
        "    # Converter para escala de cinza\n",
        "    gray = cv2.cvtColor(image, cv2.COLOR_BGR2GRAY)\n",
        "    show_image(\"Escala de Cinza\", gray, cmap='gray')\n",
        "\n",
        "    # Aplicar limiarização adaptativa\n",
        "    _, thresh = cv2.threshold(gray, 0, 255, cv2.THRESH_BINARY_INV + cv2.THRESH_OTSU)\n",
        "\n",
        "    show_image(\"Limiarização Adaptativa\", thresh, cmap='gray')\n",
        "\n",
        "    # Encontrar contornos dos dados\n",
        "    contours, _ = cv2.findContours(thresh, cv2.RETR_EXTERNAL, cv2.CHAIN_APPROX_SIMPLE)\n",
        "    image_contours = image_rgb.copy()\n",
        "    cv2.drawContours(image_contours, contours, -1, (0, 255, 0), 2)\n",
        "    show_image(\"Contornos Identificados\", image_contours)\n",
        "\n",
        "    # Lista para armazenar os pontos de cada dado\n",
        "    dice_points = []\n",
        "\n",
        "    # Processar cada contorno (dado)\n",
        "    for contour in contours:\n",
        "        # Filtrar contornos muito pequenos ou muito grandes\n",
        "        area = cv2.contourArea(contour)\n",
        "        if 1000 < area < 50000:  # Ajuste conforme necessário\n",
        "            # Criar máscara para o dado atual\n",
        "            mask = np.zeros(gray.shape, np.uint8)\n",
        "            cv2.drawContours(mask, [contour], 0, 255, -1)\n",
        "            show_image(\"Máscara do Dado\", mask, cmap='gray')\n",
        "\n",
        "            # Encontrar pontos no dado\n",
        "            points_mask = cv2.bitwise_and(thresh, thresh, mask=mask)\n",
        "            show_image(\"Pontos Destacados\", points_mask, cmap='gray')\n",
        "\n",
        "            # Encontrar blobs (pontos)\n",
        "            params = cv2.SimpleBlobDetector_Params()\n",
        "            params.filterByArea = True\n",
        "            params.minArea = 10\n",
        "            #params.maxArea = 500\n",
        "            params.filterByCircularity = True\n",
        "            params.minCircularity = 0.8\n",
        "\n",
        "            detector = cv2.SimpleBlobDetector_create(params)\n",
        "            keypoints = detector.detect(points_mask)\n",
        "\n",
        "            # Desenhar keypoints na imagem\n",
        "            image_keypoints = cv2.drawKeypoints(image_rgb, keypoints, np.array([]), (0, 0, 255),\n",
        "                                                cv2.DRAW_MATCHES_FLAGS_DRAW_RICH_KEYPOINTS)\n",
        "            show_image(\"Detecção dos Pontos\", image_keypoints)\n",
        "\n",
        "            dice_points.append(len(keypoints))\n",
        "\n",
        "    return dice_points\n",
        "\n",
        "# Caminho para a imagem\n",
        "image_path = '/content/red_dices.jpg'\n",
        "\n",
        "# Contar pontos\n",
        "points = count_dice_points(image_path)\n",
        "\n",
        "# Exibir pontos e soma total\n",
        "print(\"Pontos em cada dado:\", points)\n",
        "print(\"Soma total dos pontos:\", sum(points))"
      ]
    }
  ]
}